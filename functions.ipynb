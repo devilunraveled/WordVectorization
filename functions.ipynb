{
    "cells": [
        {
            "cell_type": "markdown",
            "metadata": {},
            "source": "SVD Functions Testing."
        },
        {
            "cell_type": "code",
            "execution_count": 1,
            "metadata": {
                "trusted": true
            },
            "outputs": [],
            "source": "from src.parser import Dataset\nimport time"
        },
        {
            "cell_type": "code",
            "execution_count": 2,
            "metadata": {
                "trusted": true
            },
            "outputs": [],
            "source": "mainDataset = Dataset(fileName = \"train.pkl\",forceNew = True)"
        },
        {
            "cell_type": "code",
            "execution_count": 3,
            "metadata": {
                "trusted": true
            },
            "outputs": [],
            "source": "sampleDataset = Dataset(trainPath = \"./corpus/sample.csv\", \n                        fileName = \"sample.pkl\",\n                        forceNew = True)"
        },
        {
            "cell_type": "code",
            "execution_count": 4,
            "metadata": {
                "trusted": true
            },
            "outputs": [],
            "source": "# Performing SVD.\ndef svd( dataset : Dataset ):\n    startTime = time.time()\n    dataset.performSVD()\n    print(f\"Time taken to perform SVD : {time.time() - startTime:.2f}s\")"
        },
        {
            "cell_type": "markdown",
            "metadata": {},
            "source": "Inspecting the SVD"
        },
        {
            "cell_type": "code",
            "execution_count": 5,
            "metadata": {
                "trusted": true
            },
            "outputs": [],
            "source": "def inspectSVD( dataset : Dataset ):\n    print(f\"U : {dataset.U}\\nS : {dataset.S}\\nVt : {dataset.Vt}\")"
        },
        {
            "cell_type": "code",
            "execution_count": 6,
            "metadata": {
                "trusted": true
            },
            "outputs": [],
            "source": "def inspectWordEmbedding( dataset : Dataset, word : str ):\n    return dataset.getWordEmbedding(word = word)"
        },
        {
            "cell_type": "code",
            "execution_count": 7,
            "metadata": {
                "trusted": true
            },
            "outputs": [
                {
                    "name": "stdout",
                    "output_type": "stream",
                    "text": "Parsing data...\n|\u2588\u2588\u2588\u2588\u2588\u2588\u2588\u2588\u2588\u2588\u2588\u2588\u2588\u2588\u2588\u2588\u2588\u2588\u2588\u2588\u2588\u2588\u2588\u2588\u2588\u2588\u2588\u2588\u2588\u2588\u2588\u2588\u2588\u2588\u2588\u2588\u2588\u2588\u2588\u2588| 6/6 [100%] in 0.0s (1002.24/s) \n"
                },
                {
                    "name": "stderr",
                    "output_type": "stream",
                    "text": "/home/devilunraveled/miniconda3/lib/python3.10/site-packages/transformers/utils/generic.py:462: UserWarning: torch.utils._pytree._register_pytree_node is deprecated. Please use torch.utils._pytree.register_pytree_node instead.\n  _torch_pytree._register_pytree_node(\n"
                },
                {
                    "name": "stdout",
                    "output_type": "stream",
                    "text": "on 0: Epoch : 1, Loss : 0.0572\non 1: Epoch : 2, Loss : 0.0311\non 2: Epoch : 3, Loss : 0.0188\non 3: Epoch : 4, Loss : 0.0135\non 4: Epoch : 5, Loss : 0.0113\non 5: Epoch : 6, Loss : 0.0096\non 6: Epoch : 7, Loss : 0.0085\non 7: Epoch : 8, Loss : 0.0075\non 8: Epoch : 9, Loss : 0.0071\non 9: Epoch : 10, Loss : 0.0069\n|\u2588\u2588\u2588\u2588\u2588\u2588\u2588\u2588\u2588\u2588\u2588\u2588\u2588\u2588\u2588\u2588\u2588\u2588\u2588\u2588\u2588\u2588\u2588\u2588\u2588\u2588\u2588\u2588\u2588\u2588\u2588\u2588\u2588\u2588\u2588\u2588\u2588\u2588\u2588\u2588| 10/10 [100%] in 5.7s (1.76/s) \n"
                }
            ],
            "source": "mainDataset.getWord2VecEmbedding()"
        }
    ],
    "metadata": {
        "kernelspec": {
            "display_name": "Python 3 (ipykernel)",
            "language": "python",
            "name": "python3"
        },
        "language_info": {
            "codemirror_mode": {
                "name": "ipython",
                "version": 3
            },
            "file_extension": ".py",
            "mimetype": "text/x-python",
            "name": "python",
            "nbconvert_exporter": "python",
            "pygments_lexer": "ipython3",
            "version": "3.10.13"
        }
    },
    "nbformat": 4,
    "nbformat_minor": 5
}