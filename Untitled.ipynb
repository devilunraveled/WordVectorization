{
 "cells": [
  {
   "cell_type": "markdown",
   "id": "75b695e2",
   "metadata": {},
   "source": [
    "SVD Functions Testing."
   ]
  },
  {
   "cell_type": "code",
   "execution_count": 1,
   "id": "b72ae27d",
   "metadata": {},
   "outputs": [],
   "source": [
    "from src.parser import Dataset\n",
    "import time"
   ]
  },
  {
   "cell_type": "code",
   "execution_count": 2,
   "id": "79ad7a68",
   "metadata": {},
   "outputs": [],
   "source": [
    "mainDataset = Dataset(fileName = \"train.pkl\",forceNew = True)"
   ]
  },
  {
   "cell_type": "code",
   "execution_count": 3,
   "id": "4eea448c",
   "metadata": {},
   "outputs": [],
   "source": [
    "sampleDataset = Dataset(trainPath = \"./corpus/sample.csv\", \n",
    "                        fileName = \"sample.pkl\",\n",
    "                        forceNew = True)"
   ]
  },
  {
   "cell_type": "code",
   "execution_count": 4,
   "id": "b9161e97",
   "metadata": {},
   "outputs": [],
   "source": [
    "# Performing SVD.\n",
    "def svd( dataset : Dataset ):\n",
    "    startTime = time.time()\n",
    "    dataset.performSVD()\n",
    "    print(f\"Time taken to perform SVD : {time.time() - startTime:.2f}s\")"
   ]
  },
  {
   "cell_type": "markdown",
   "id": "c1a09373",
   "metadata": {},
   "source": [
    "Inspecting the SVD"
   ]
  },
  {
   "cell_type": "code",
   "execution_count": 5,
   "id": "e9976832",
   "metadata": {},
   "outputs": [],
   "source": [
    "def inspectSVD( dataset : Dataset ):\n",
    "    print(f\"U : {dataset.U}\\nS : {dataset.S}\\nVt : {dataset.Vt}\")"
   ]
  },
  {
   "cell_type": "code",
   "execution_count": 6,
   "id": "3560ce52",
   "metadata": {},
   "outputs": [],
   "source": [
    "def inspectWordEmbedding( dataset : Dataset, word : str ):\n",
    "    return dataset.getWordEmbedding(word = word)"
   ]
  },
  {
   "cell_type": "code",
   "execution_count": null,
   "id": "a91ee693",
   "metadata": {},
   "outputs": [
    {
     "name": "stdout",
     "output_type": "stream",
     "text": [
      "Parsing data...\n"
     ]
    }
   ],
   "source": [
    "mainDataset.getWord2VecEmbedding()"
   ]
  }
 ],
 "metadata": {
  "kernelspec": {
   "display_name": "Python 3 (ipykernel)",
   "language": "python",
   "name": "python3"
  },
  "language_info": {
   "codemirror_mode": {
    "name": "ipython",
    "version": 3
   },
   "file_extension": ".py",
   "mimetype": "text/x-python",
   "name": "python",
   "nbconvert_exporter": "python",
   "pygments_lexer": "ipython3",
   "version": "3.10.13"
  }
 },
 "nbformat": 4,
 "nbformat_minor": 5
}
